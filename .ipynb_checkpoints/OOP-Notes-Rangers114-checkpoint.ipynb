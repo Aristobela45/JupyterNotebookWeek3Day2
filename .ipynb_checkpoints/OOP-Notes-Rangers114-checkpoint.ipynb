{
 "cells": [
  {
   "cell_type": "markdown",
   "metadata": {},
   "source": [
    "# Object-Oriented-Programming (OOP)"
   ]
  },
  {
   "cell_type": "markdown",
   "metadata": {},
   "source": [
    "## Tasks Today:\n",
    "\n",
    "   \n",
    "\n",
    "1) <b>Creating a Class (Initializing/Declaring)</b> <br>\n",
    "2) <b>Using a Class (Instantiating)</b> <br>\n",
    " &nbsp;&nbsp;&nbsp;&nbsp; a) Creating One Instance <br>\n",
    " &nbsp;&nbsp;&nbsp;&nbsp; b) Creating Multiple Instances <br>\n",
    " &nbsp;&nbsp;&nbsp;&nbsp; c) In-Class Exercise #1 - Create a Class 'Car' and instantiate three different makes of cars <br>\n",
    "3) <b>The \\__init\\__() Method</b> <br>\n",
    " &nbsp;&nbsp;&nbsp;&nbsp; a) The 'self' Attribute <br>\n",
    "4) <b>Class Attributes</b> <br>\n",
    " &nbsp;&nbsp;&nbsp;&nbsp; a) Initializing Attributes <br>\n",
    " &nbsp;&nbsp;&nbsp;&nbsp; b) Setting an Attribute Outside of the \\__init\\__() Method <br>\n",
    " &nbsp;&nbsp;&nbsp;&nbsp; c) Setting Defaults for Attributes <br>\n",
    " &nbsp;&nbsp;&nbsp;&nbsp; d) Accessing Class Attributes <br>\n",
    " &nbsp;&nbsp;&nbsp;&nbsp; e) Changing Class Attributes <br>\n",
    " &nbsp;&nbsp;&nbsp;&nbsp; f) In-Class Exercise #2 - Add a color and wheels attribute to your 'Car' class <br>\n",
    "5) <b>Class Methods</b> <br>\n",
    " &nbsp;&nbsp;&nbsp;&nbsp; a) Creating <br>\n",
    " &nbsp;&nbsp;&nbsp;&nbsp; b) Calling <br>\n",
    " &nbsp;&nbsp;&nbsp;&nbsp; c) Modifying an Attribute's Value Through a Method <br>\n",
    " &nbsp;&nbsp;&nbsp;&nbsp; d) Incrementing an Attribute's Value Through a Method <br>\n",
    " &nbsp;&nbsp;&nbsp;&nbsp; e) In-Class Exercise #3 - Add a method that prints the cars color and wheel number, then call them <br>\n",
    "6) <b>Inheritance</b> <br>\n",
    " &nbsp;&nbsp;&nbsp;&nbsp; a) Syntax for Inheriting from a Parent Class <br>\n",
    " &nbsp;&nbsp;&nbsp;&nbsp; b) The \\__init\\__() Method for a Child Class (super()) <br>\n",
    " &nbsp;&nbsp;&nbsp;&nbsp; c) Defining Attributes and Methods for the Child Class <br>\n",
    " &nbsp;&nbsp;&nbsp;&nbsp; d) Method Overriding <br>\n",
    " &nbsp;&nbsp;&nbsp;&nbsp; e) In-Class Exercise #4 - Create a class 'Ford' that inherits from 'Car' class and initialize it as a Blue Ford Explorer with 4 wheels using the super() method <br>\n",
    "7) <b>Classes as Attributes</b> <br>\n",
    "8) <b>Exercises</b> <br>\n",
    " &nbsp;&nbsp;&nbsp;&nbsp; a) Exercise #1 - Turn the shopping cart program from last week into an object-oriented program <br>"
   ]
  },
  {
   "cell_type": "markdown",
   "metadata": {},
   "source": [
    "## Creating a Class (Initializing/Declaring)\n",
    "<p>When creating a class, function, or even a variable you are initializing that object. Initializing and Declaring occur at the same time in Python, whereas in lower level languages you have to declare an object before initializing it. This is the first step in the process of using a class.</p>"
   ]
  },
  {
   "cell_type": "code",
   "execution_count": 1,
   "metadata": {},
   "outputs": [],
   "source": [
    "class Car():\n",
    "    wheels = 4\n",
    "    color = \"blue\""
   ]
  },
  {
   "cell_type": "markdown",
   "metadata": {},
   "source": [
    "## Using a Class (Instantiating)\n",
    "<p>The process of creating a class is called <i>Instantiating</i>. Each time you create a variable of that type of class, it is referred to as an <i>Instance</i> of that class. This is the second step in the process of using a class.</p>"
   ]
  },
  {
   "cell_type": "markdown",
   "metadata": {},
   "source": [
    "##### Creating One Instance"
   ]
  },
  {
   "cell_type": "code",
   "execution_count": 3,
   "metadata": {},
   "outputs": [
    {
     "name": "stdout",
     "output_type": "stream",
     "text": [
      "4\n",
      "blue\n",
      "{}\n"
     ]
    }
   ],
   "source": [
    "mazda = Car()\n",
    "\n",
    "print(mazda.wheels)\n",
    "print(mazda.color)\n",
    "\n",
    "\n",
    "print(mazda.__dict__)"
   ]
  },
  {
   "cell_type": "markdown",
   "metadata": {},
   "source": [
    "##### Creating Multiple Instances"
   ]
  },
  {
   "cell_type": "code",
   "execution_count": 4,
   "metadata": {},
   "outputs": [
    {
     "name": "stdout",
     "output_type": "stream",
     "text": [
      "4\n",
      "4\n",
      "4\n"
     ]
    }
   ],
   "source": [
    "ford = Car()\n",
    "chevy = Car()\n",
    "Merc = Car()\n",
    "\n",
    "print(ford.wheels)\n",
    "print(chevy.wheels)\n",
    "print(Merc.wheels)"
   ]
  },
  {
   "cell_type": "markdown",
   "metadata": {},
   "source": [
    "##### In-Class Exercise #1 - Create a Class 'Car' and Instantiate three different makes of cars"
   ]
  },
  {
   "cell_type": "code",
   "execution_count": 11,
   "metadata": {},
   "outputs": [
    {
     "name": "stdout",
     "output_type": "stream",
     "text": [
      "1995\n",
      "v12\n",
      "grey\n"
     ]
    }
   ],
   "source": [
    "class Car():\n",
    "    engine = \"v12\"\n",
    "    color = \"grey\"\n",
    "    year = 1995\n",
    "    \n",
    "bmw = Car()\n",
    "Merc = Car()\n",
    "jaguar = Car()\n",
    "\n",
    "print(bmw.year)\n",
    "print(Merc.engine)\n",
    "print(jaguar.color)"
   ]
  },
  {
   "cell_type": "code",
   "execution_count": 12,
   "metadata": {},
   "outputs": [
    {
     "name": "stdout",
     "output_type": "stream",
     "text": [
      "red\n",
      "7\n",
      "highlander\n",
      "blue\n",
      "4\n",
      "sedan\n"
     ]
    }
   ],
   "source": [
    "class Car():\n",
    "    seats = 4\n",
    "    wheels = 4\n",
    "    color = \"blue\"\n",
    "    model = \"sedan\"\n",
    "    \n",
    "toyota = Car()\n",
    "honda = Car()\n",
    "ford = Car()\n",
    "\n",
    "toyota.seats = 7\n",
    "toyota.color = \"red\"\n",
    "toyota.model = \"highlander\"\n",
    "\n",
    "print(toyota.color)\n",
    "print(toyota.seats)\n",
    "print(toyota.model)\n",
    "\n",
    "print(honda.color)\n",
    "print(honda.seats)\n",
    "print(honda.model)"
   ]
  },
  {
   "cell_type": "code",
   "execution_count": null,
   "metadata": {},
   "outputs": [],
   "source": []
  },
  {
   "cell_type": "code",
   "execution_count": null,
   "metadata": {},
   "outputs": [],
   "source": []
  },
  {
   "cell_type": "markdown",
   "metadata": {},
   "source": [
    "## The \\__init\\__() Method <br>\n",
    "<p>This method is used in almost every created class, and called only once upon the creation of the class instance. This method will initialize all variables needed for the object.</p>"
   ]
  },
  {
   "cell_type": "code",
   "execution_count": 25,
   "metadata": {},
   "outputs": [
    {
     "name": "stdout",
     "output_type": "stream",
     "text": [
      "blue\n",
      "silver\n",
      "white\n",
      "red\n",
      "silver\n",
      "white\n",
      "<class '__main__.Car'>\n",
      "{'wheels': 4, 'color': 'red', 'door': 4}\n",
      "{'wheels': 4, 'color': 'red', 'door': 4}\n",
      "4\n"
     ]
    }
   ],
   "source": [
    "class Car():\n",
    "    def __init__(self, wheels, color, door):\n",
    "        self.wheels = wheels\n",
    "        self.color = color\n",
    "        self.door = door\n",
    "mazda = Car(4, 'blue', 4)\n",
    "\n",
    "chevy = Car(4, 'silver', 4)\n",
    "\n",
    "subaru = Car(4, 'white', 4)\n",
    "\n",
    "print(mazda.color)\n",
    "print(chevy.color)\n",
    "print(subaru.color)\n",
    "\n",
    "mazda.color = 'red'\n",
    "print(mazda.color)\n",
    "print(chevy.color)\n",
    "print(subaru.color)\n",
    "\n",
    "\n",
    "print(type(mazda))\n",
    "\n",
    "print(mazda.__dict__)\n",
    "\n",
    "mazda_dict = mazda.__dict__\n",
    "\n",
    "print(mazda_dict)\n",
    "print(mazda_dict['wheels'])"
   ]
  },
  {
   "cell_type": "markdown",
   "metadata": {},
   "source": [
    "##### The 'self' Attribute <br>\n",
    "<p>This attribute is required to keep track of specific instance's attributes. Without the self attribute, the program would not know how to reference or keep track of an instance's attributes.</p>"
   ]
  },
  {
   "cell_type": "code",
   "execution_count": 26,
   "metadata": {},
   "outputs": [],
   "source": [
    "class Pokemon():\n",
    "    def __init__(self, name, type_):\n",
    "        #self will hold the place of the object we eventually instantiate\n",
    "        self.name = name\n",
    "        self.type = type_\n",
    "    \n",
    "    def print_info(self):\n",
    "        print(f\"This is {self.name}. It is a {self.type} type.\")\n",
    "        \n",
    "    def set_name(self):\n",
    "        name = input(\"What is your pokemon name? \")\n",
    "        "
   ]
  },
  {
   "cell_type": "markdown",
   "metadata": {},
   "source": [
    "## Class Attributes <br>\n",
    "<p>While variables are inside of a class, they are referred to as attributes and not variables. When someone says 'attribute' you know they're speaking about a class. Attributes can be initialized through the init method, or outside of it.</p>"
   ]
  },
  {
   "cell_type": "markdown",
   "metadata": {},
   "source": [
    "##### Initializing Attributes"
   ]
  },
  {
   "cell_type": "code",
   "execution_count": null,
   "metadata": {},
   "outputs": [],
   "source": [
    "charmander = Pokemon(\"fire\")"
   ]
  },
  {
   "cell_type": "markdown",
   "metadata": {},
   "source": [
    "##### Accessing Class Attributes"
   ]
  },
  {
   "cell_type": "code",
   "execution_count": null,
   "metadata": {
    "scrolled": true
   },
   "outputs": [],
   "source": [
    "print(charmander.name)\n",
    "print(charmander.type)\n",
    "print(charmander.__dict__)"
   ]
  },
  {
   "cell_type": "markdown",
   "metadata": {},
   "source": [
    "##### Setting Defaults for Attributes"
   ]
  },
  {
   "cell_type": "code",
   "execution_count": 28,
   "metadata": {},
   "outputs": [
    {
     "name": "stdout",
     "output_type": "stream",
     "text": [
      "blue\n",
      "red\n",
      "4\n",
      "red\n",
      "yellow\n",
      "\n",
      "\n",
      "orange\n"
     ]
    }
   ],
   "source": [
    "#setting a default attribute inside of the __init__\n",
    "class Car():\n",
    "    def __init__(self, wheels):\n",
    "        self.wheels = wheels\n",
    "        self.color = \"blue\"\n",
    "honda = Car(4)\n",
    "\n",
    "\n",
    "print(honda.color)\n",
    "honda.color = \"red\"\n",
    "print(honda.color)\n",
    "\n",
    "#setting default parameter in __init__\n",
    "\n",
    "class Car():\n",
    "    def __init__(self, wheels, color = \"red\"):\n",
    "        self.wheels = wheels\n",
    "        self.color = color\n",
    "        \n",
    "ford = Car(4)\n",
    "print(ford.wheels)\n",
    "print(ford.color)\n",
    "ford.color = \"yellow\"\n",
    "print(ford.color)\n",
    "print(\"\\n\")\n",
    "toyota = Car(4, \"orange\")\n",
    "print(toyota.color)"
   ]
  },
  {
   "cell_type": "markdown",
   "metadata": {},
   "source": [
    "##### Changing Class Attributes <br>\n",
    "<p>Keep in mind there are global class attributes and then there are attributes only available to each class instance which won't effect other classes.</p>"
   ]
  },
  {
   "cell_type": "code",
   "execution_count": 29,
   "metadata": {},
   "outputs": [
    {
     "name": "stdout",
     "output_type": "stream",
     "text": [
      "Cheetor before he was broken: True he is fun\n",
      "Cheetor before he was broken: False he is fun\n"
     ]
    }
   ],
   "source": [
    "class Toy():\n",
    "    def __init__(self, name, is_it_fun):\n",
    "        self.name = name\n",
    "        self.is_it_fun = is_it_fun\n",
    "        \n",
    "beast_wars = Toy(\"cheetor\", True)\n",
    "print (f\"Cheetor before he was broken: {beast_wars.is_it_fun} he is fun\")\n",
    "beast_wars.is_it_fun = False\n",
    "print (f\"Cheetor before he was broken: {beast_wars.is_it_fun} he is fun\")"
   ]
  },
  {
   "cell_type": "code",
   "execution_count": null,
   "metadata": {},
   "outputs": [],
   "source": []
  },
  {
   "cell_type": "markdown",
   "metadata": {},
   "source": [
    "##### In-Class Exercise #2 - Add two new attributes to your 'Car' class then print out two different instances with different doors and seats. Then take that bad boy to the shop and change those attributes. Either with an input or just by changing them"
   ]
  },
  {
   "cell_type": "code",
   "execution_count": 30,
   "metadata": {},
   "outputs": [
    {
     "name": "stdout",
     "output_type": "stream",
     "text": [
      "White\n",
      "2\n"
     ]
    }
   ],
   "source": [
    "class Car():\n",
    "    def __init__(self, make, model, color, doors = 2, seats = 2):\n",
    "        self.make = make\n",
    "        self.model = model\n",
    "        self.color = color\n",
    "        self.doors = doors\n",
    "        self.seats = seats\n",
    "        \n",
    "merc = Car(\"Merc\", \"SL500\", 4, \"White\", 2)\n",
    "print(merc.doors)\n",
    "print(merc.seats)\n",
    "        \n"
   ]
  },
  {
   "cell_type": "code",
   "execution_count": 31,
   "metadata": {},
   "outputs": [
    {
     "name": "stdout",
     "output_type": "stream",
     "text": [
      "car1 has 4 doors and 5 seats.\n",
      "car2 has 2 doors and 2 seats.\n"
     ]
    }
   ],
   "source": [
    "class Car:\n",
    "    def __init__(self, doors, seats, color):\n",
    "        self.doors = doors\n",
    "        self.seats = seats\n",
    "        self.color = color\n",
    "        self.engine_type = \"gasoline\"\n",
    "        self.transmission = \"automatic\"\n",
    "        \n",
    "car1 = Car(doors=4, seats=5, color=\"red\")\n",
    "car2 = Car(doors=2, seats=2, color=\"blue\")\n",
    "\n",
    "print(f\"car1 has {car1.doors} doors and {car1.seats} seats.\")\n",
    "print(f\"car2 has {car2.doors} doors and {car2.seats} seats.\")"
   ]
  },
  {
   "cell_type": "code",
   "execution_count": 32,
   "metadata": {},
   "outputs": [
    {
     "name": "stdout",
     "output_type": "stream",
     "text": [
      "name: Draciel\n",
      "type: Attack\n",
      "franchise: Beyblade: Chronicles\n",
      "power_level: 9001\n"
     ]
    }
   ],
   "source": [
    "class Toy():\n",
    "    def __init__(self, name, type_, franchise, power_level = 1):\n",
    "        self.name = name\n",
    "        self.type = type_\n",
    "        self.franchise = franchise\n",
    "        self.power_level = power_level\n",
    "\n",
    "beyblade = Toy('Draciel', 'Attack', 'Beyblade')\n",
    "beyblade.franchise = 'Beyblade: Chronicles'\n",
    "beyblade.power_level += 9000\n",
    "\n",
    "for k, v in beyblade.__dict__.items():\n",
    "    print(f'{k}: {v}')"
   ]
  },
  {
   "cell_type": "markdown",
   "metadata": {},
   "source": [
    "## Class Methods <br>\n",
    "<p>While inside of a class, functions are referred to as 'methods'. If you hear someone mention methods, they're speaking about classes. Methods are essentially functions, but only callable on the instances of a class.</p>"
   ]
  },
  {
   "cell_type": "markdown",
   "metadata": {},
   "source": [
    "##### Creating"
   ]
  },
  {
   "cell_type": "code",
   "execution_count": 35,
   "metadata": {},
   "outputs": [],
   "source": [
    "class Bus():\n",
    "    \"\"\"\n",
    "    The bus will have doors, seats, seats available, color, and a bus driver \n",
    "    \n",
    "    \n",
    "    \"\"\"\n",
    "    \n",
    "    \n",
    "    \n",
    "    def __init__(self, doors, seats, seats_available, color, bus_driver):\n",
    "        self.doors = doors\n",
    "        self.seats = seats\n",
    "        self.self_available = self_available\n",
    "        self.color = color\n",
    "        self.bus_driver = bus_driver\n",
    "        \n",
    "        \n",
    "    #decrement the number of seats avail\n",
    "    def load_passenger(self):\n",
    "        pass\n",
    "        if self.seats_available <= 0:\n",
    "            print(\"the bus is full! cannot take anymore passengers!\")\n",
    "        if self.seats_available < 0:\n",
    "            print(f\"you left {abs(self.seats_available)} by the road!\")\n",
    "            self.seats_available = 0\n",
    "        \n",
    "    \n",
    "    \n",
    "    \n",
    "    #increment the number of seats avail\n",
    "    def unload_passengers(self):\n",
    "        if self.seats_available >= self.seats:\n",
    "            print(\"There is no one left to get off the bus\")\n",
    "        else:\n",
    "            unload = int(input(\"how many passengers are getting off the bus\"))\n",
    "            self.seats_available += unload\n",
    "            if self.seats_available >= self.seats:\n",
    "                self.seats_available = self.seats\n",
    "   \n",
    "\n",
    "    \n",
    "    #change the bus driver\n",
    "    def change_driver(self):\n",
    "        change = input(\"who is replacing you? \")\n",
    "        self.bus_driver = change\n",
    "        print(f\"{passengers} have boarded. There are {self.seats_available} seats available on the bus!\")\n",
    "    \n",
    "    \n",
    "    \n",
    "    #display number of available seats\n",
    "    def check_seats(self):\n",
    "        print(f\"There are {self.seats_available} seats for everyone!\")\n",
    "    \n",
    "    \n",
    "    \n",
    "    #display bus color\n",
    "    def admire_bus(self):\n",
    "        print(f\"woah there {self.color} yes you can!\")\n",
    "        "
   ]
  },
  {
   "cell_type": "code",
   "execution_count": 36,
   "metadata": {},
   "outputs": [
    {
     "ename": "NameError",
     "evalue": "name 'self_available' is not defined",
     "output_type": "error",
     "traceback": [
      "\u001b[1;31m---------------------------------------------------------------------------\u001b[0m",
      "\u001b[1;31mNameError\u001b[0m                                 Traceback (most recent call last)",
      "\u001b[1;32m~\\AppData\\Local\\Temp\\ipykernel_2672\\3924764006.py\u001b[0m in \u001b[0;36m<module>\u001b[1;34m\u001b[0m\n\u001b[0;32m     22\u001b[0m             \u001b[0mprint\u001b[0m\u001b[1;33m(\u001b[0m\u001b[1;34m\"That is not valid response. please cjppse from the list\"\u001b[0m\u001b[1;33m)\u001b[0m\u001b[1;33m\u001b[0m\u001b[1;33m\u001b[0m\u001b[0m\n\u001b[0;32m     23\u001b[0m \u001b[1;33m\u001b[0m\u001b[0m\n\u001b[1;32m---> 24\u001b[1;33m \u001b[0mrun\u001b[0m\u001b[1;33m(\u001b[0m\u001b[1;33m)\u001b[0m\u001b[1;33m\u001b[0m\u001b[1;33m\u001b[0m\u001b[0m\n\u001b[0m",
      "\u001b[1;32m~\\AppData\\Local\\Temp\\ipykernel_2672\\3924764006.py\u001b[0m in \u001b[0;36mrun\u001b[1;34m()\u001b[0m\n\u001b[0;32m      1\u001b[0m \u001b[1;32mdef\u001b[0m \u001b[0mrun\u001b[0m\u001b[1;33m(\u001b[0m\u001b[1;33m)\u001b[0m\u001b[1;33m:\u001b[0m\u001b[1;33m\u001b[0m\u001b[1;33m\u001b[0m\u001b[0m\n\u001b[1;32m----> 2\u001b[1;33m     \u001b[0mryan_bus\u001b[0m \u001b[1;33m=\u001b[0m \u001b[0mBus\u001b[0m\u001b[1;33m(\u001b[0m\u001b[1;36m2\u001b[0m\u001b[1;33m,\u001b[0m \u001b[1;36m90\u001b[0m\u001b[1;33m,\u001b[0m \u001b[1;36m45\u001b[0m\u001b[1;33m,\u001b[0m \u001b[1;34m\"yellow\"\u001b[0m\u001b[1;33m,\u001b[0m \u001b[1;34m\"ryan\"\u001b[0m\u001b[1;33m)\u001b[0m\u001b[1;33m\u001b[0m\u001b[1;33m\u001b[0m\u001b[0m\n\u001b[0m\u001b[0;32m      3\u001b[0m     \u001b[1;32mwhile\u001b[0m \u001b[1;32mTrue\u001b[0m\u001b[1;33m:\u001b[0m\u001b[1;33m\u001b[0m\u001b[1;33m\u001b[0m\u001b[0m\n\u001b[0;32m      4\u001b[0m         \u001b[0mresponse\u001b[0m \u001b[1;33m=\u001b[0m \u001b[0minput\u001b[0m\u001b[1;33m(\u001b[0m\u001b[1;34m\"What would you like to do? Load/Unload/Change driver/check seats/admire/quit\"\u001b[0m\u001b[1;33m)\u001b[0m\u001b[1;33m\u001b[0m\u001b[1;33m\u001b[0m\u001b[0m\n\u001b[0;32m      5\u001b[0m         \u001b[1;32mif\u001b[0m \u001b[0mresponse\u001b[0m\u001b[1;33m.\u001b[0m\u001b[0mlower\u001b[0m\u001b[1;33m(\u001b[0m\u001b[1;33m)\u001b[0m \u001b[1;33m==\u001b[0m \u001b[1;34m'quit'\u001b[0m\u001b[1;33m:\u001b[0m\u001b[1;33m\u001b[0m\u001b[1;33m\u001b[0m\u001b[0m\n",
      "\u001b[1;32m~\\AppData\\Local\\Temp\\ipykernel_2672\\1298001377.py\u001b[0m in \u001b[0;36m__init__\u001b[1;34m(self, doors, seats, seats_available, color, bus_driver)\u001b[0m\n\u001b[0;32m     11\u001b[0m         \u001b[0mself\u001b[0m\u001b[1;33m.\u001b[0m\u001b[0mdoors\u001b[0m \u001b[1;33m=\u001b[0m \u001b[0mdoors\u001b[0m\u001b[1;33m\u001b[0m\u001b[1;33m\u001b[0m\u001b[0m\n\u001b[0;32m     12\u001b[0m         \u001b[0mself\u001b[0m\u001b[1;33m.\u001b[0m\u001b[0mseats\u001b[0m \u001b[1;33m=\u001b[0m \u001b[0mseats\u001b[0m\u001b[1;33m\u001b[0m\u001b[1;33m\u001b[0m\u001b[0m\n\u001b[1;32m---> 13\u001b[1;33m         \u001b[0mself\u001b[0m\u001b[1;33m.\u001b[0m\u001b[0mself_available\u001b[0m \u001b[1;33m=\u001b[0m \u001b[0mself_available\u001b[0m\u001b[1;33m\u001b[0m\u001b[1;33m\u001b[0m\u001b[0m\n\u001b[0m\u001b[0;32m     14\u001b[0m         \u001b[0mself\u001b[0m\u001b[1;33m.\u001b[0m\u001b[0mcolor\u001b[0m \u001b[1;33m=\u001b[0m \u001b[0mcolor\u001b[0m\u001b[1;33m\u001b[0m\u001b[1;33m\u001b[0m\u001b[0m\n\u001b[0;32m     15\u001b[0m         \u001b[0mself\u001b[0m\u001b[1;33m.\u001b[0m\u001b[0mbus_driver\u001b[0m \u001b[1;33m=\u001b[0m \u001b[0mbus_driver\u001b[0m\u001b[1;33m\u001b[0m\u001b[1;33m\u001b[0m\u001b[0m\n",
      "\u001b[1;31mNameError\u001b[0m: name 'self_available' is not defined"
     ]
    }
   ],
   "source": [
    "def run():\n",
    "    ryan_bus = Bus(2, 90, 45, \"yellow\", \"ryan\")\n",
    "    while True:\n",
    "        response = input(\"What would you like to do? Load/Unload/Change driver/check seats/admire/quit\")\n",
    "        if response.lower() == 'quit':\n",
    "            print(\"oh no There are still passengers to pick up\")\n",
    "            break\n",
    "        elif response.lower() == \"load\":\n",
    "            ryan_bus.load_passenger()\n",
    "            \n",
    "        elif response.lower() == \"unload\":\n",
    "            ryan_bus.change_driver()\n",
    "            \n",
    "        elif response.lower() == \"check seats\":\n",
    "            ryan_bus.check_seats()\n",
    "            \n",
    "        elif response.lower() == \"admire\":\n",
    "            ryan_bus.admire_bus()\n",
    "            \n",
    "            \n",
    "        else:\n",
    "            print(\"That is not valid response. please cjppse from the list\")\n",
    "            \n",
    "run()"
   ]
  },
  {
   "cell_type": "markdown",
   "metadata": {},
   "source": [
    "##### Calling"
   ]
  },
  {
   "cell_type": "code",
   "execution_count": null,
   "metadata": {},
   "outputs": [],
   "source": [
    "class Cart():\n",
    "    def __init__(self):\n",
    "        self.items = []\n",
    "        \n",
    "#     def add_item(self):\n",
    "#         item = input(\"What would you like to add?\")\n",
    "#         quantity = int(input(\"How many would you like to add? \"))\n",
    "#         if item not in self.items:\n",
    "#             self.items[item] = quantity\n",
    "#         else:\n",
    "#             self.items[item] += quantity\n",
    "\n",
    "    def add_item(self):\n",
    "        item = input(\"What would you like to add? \")\n",
    "        self.items.append(item)\n",
    "    \n",
    "    def show_cart(self):\n",
    "        print(self.items)\n",
    "        \n",
    "    def remove_item(self):\n",
    "        pass\n",
    "        \n",
    "my_cart = Cart()\n",
    "my_cart.add_item()\n",
    "my_cart.show_cart()\n",
    "my_cart.add_item()\n",
    "my_cart.show_cart()\n"
   ]
  },
  {
   "cell_type": "code",
   "execution_count": 34,
   "metadata": {},
   "outputs": [
    {
     "ename": "NameError",
     "evalue": "name 'Bus' is not defined",
     "output_type": "error",
     "traceback": [
      "\u001b[1;31m---------------------------------------------------------------------------\u001b[0m",
      "\u001b[1;31mNameError\u001b[0m                                 Traceback (most recent call last)",
      "\u001b[1;32m~\\AppData\\Local\\Temp\\ipykernel_2672\\3924764006.py\u001b[0m in \u001b[0;36m<module>\u001b[1;34m\u001b[0m\n\u001b[0;32m     22\u001b[0m             \u001b[0mprint\u001b[0m\u001b[1;33m(\u001b[0m\u001b[1;34m\"That is not valid response. please cjppse from the list\"\u001b[0m\u001b[1;33m)\u001b[0m\u001b[1;33m\u001b[0m\u001b[1;33m\u001b[0m\u001b[0m\n\u001b[0;32m     23\u001b[0m \u001b[1;33m\u001b[0m\u001b[0m\n\u001b[1;32m---> 24\u001b[1;33m \u001b[0mrun\u001b[0m\u001b[1;33m(\u001b[0m\u001b[1;33m)\u001b[0m\u001b[1;33m\u001b[0m\u001b[1;33m\u001b[0m\u001b[0m\n\u001b[0m",
      "\u001b[1;32m~\\AppData\\Local\\Temp\\ipykernel_2672\\3924764006.py\u001b[0m in \u001b[0;36mrun\u001b[1;34m()\u001b[0m\n\u001b[0;32m      1\u001b[0m \u001b[1;32mdef\u001b[0m \u001b[0mrun\u001b[0m\u001b[1;33m(\u001b[0m\u001b[1;33m)\u001b[0m\u001b[1;33m:\u001b[0m\u001b[1;33m\u001b[0m\u001b[1;33m\u001b[0m\u001b[0m\n\u001b[1;32m----> 2\u001b[1;33m     \u001b[0mryan_bus\u001b[0m \u001b[1;33m=\u001b[0m \u001b[0mBus\u001b[0m\u001b[1;33m(\u001b[0m\u001b[1;36m2\u001b[0m\u001b[1;33m,\u001b[0m \u001b[1;36m90\u001b[0m\u001b[1;33m,\u001b[0m \u001b[1;36m45\u001b[0m\u001b[1;33m,\u001b[0m \u001b[1;34m\"yellow\"\u001b[0m\u001b[1;33m,\u001b[0m \u001b[1;34m\"ryan\"\u001b[0m\u001b[1;33m)\u001b[0m\u001b[1;33m\u001b[0m\u001b[1;33m\u001b[0m\u001b[0m\n\u001b[0m\u001b[0;32m      3\u001b[0m     \u001b[1;32mwhile\u001b[0m \u001b[1;32mTrue\u001b[0m\u001b[1;33m:\u001b[0m\u001b[1;33m\u001b[0m\u001b[1;33m\u001b[0m\u001b[0m\n\u001b[0;32m      4\u001b[0m         \u001b[0mresponse\u001b[0m \u001b[1;33m=\u001b[0m \u001b[0minput\u001b[0m\u001b[1;33m(\u001b[0m\u001b[1;34m\"What would you like to do? Load/Unload/Change driver/check seats/admire/quit\"\u001b[0m\u001b[1;33m)\u001b[0m\u001b[1;33m\u001b[0m\u001b[1;33m\u001b[0m\u001b[0m\n\u001b[0;32m      5\u001b[0m         \u001b[1;32mif\u001b[0m \u001b[0mresponse\u001b[0m\u001b[1;33m.\u001b[0m\u001b[0mlower\u001b[0m\u001b[1;33m(\u001b[0m\u001b[1;33m)\u001b[0m \u001b[1;33m==\u001b[0m \u001b[1;34m'quit'\u001b[0m\u001b[1;33m:\u001b[0m\u001b[1;33m\u001b[0m\u001b[1;33m\u001b[0m\u001b[0m\n",
      "\u001b[1;31mNameError\u001b[0m: name 'Bus' is not defined"
     ]
    }
   ],
   "source": [
    "def run():\n",
    "    ryan_bus = Bus(2, 90, 45, \"yellow\", \"ryan\")\n",
    "    while True:\n",
    "        response = input(\"What would you like to do? Load/Unload/Change driver/check seats/admire/quit\")\n",
    "        if response.lower() == 'quit':\n",
    "            print(\"oh no There are still passengers to pick up\")\n",
    "            break\n",
    "        elif response.lower() == \"load\":\n",
    "            ryan_bus.load_passenger()\n",
    "            \n",
    "        elif response.lower() == \"unload\":\n",
    "            ryan_bus.change_driver()\n",
    "            \n",
    "        elif response.lower() == \"check seats\":\n",
    "            ryan_bus.check_seats()\n",
    "            \n",
    "        elif response.lower() == \"admire\":\n",
    "            ryan_bus.admire_bus()\n",
    "            \n",
    "            \n",
    "        else:\n",
    "            print(\"That is not valid response. please cjppse from the list\")\n",
    "            \n",
    "run()"
   ]
  },
  {
   "cell_type": "markdown",
   "metadata": {},
   "source": [
    "##### Modifying an Attribute's Value Through a Method"
   ]
  },
  {
   "cell_type": "code",
   "execution_count": null,
   "metadata": {},
   "outputs": [],
   "source": [
    "# see above\n",
    "# load_passengers()\n",
    "# unload_passengers()\n",
    "# change_driver()"
   ]
  },
  {
   "cell_type": "markdown",
   "metadata": {},
   "source": [
    "##### Incrementing an Attribute's Value Through a Method"
   ]
  },
  {
   "cell_type": "code",
   "execution_count": null,
   "metadata": {},
   "outputs": [],
   "source": [
    "#unload_passengers()"
   ]
  },
  {
   "cell_type": "markdown",
   "metadata": {},
   "source": [
    "##### In-Class Exercise #3 - Add a method that takes in three parameters of year, doors and seats and prints out a formatted print statement with make, model, year, seats, and doors"
   ]
  },
  {
   "cell_type": "code",
   "execution_count": 41,
   "metadata": {},
   "outputs": [
    {
     "name": "stdout",
     "output_type": "stream",
     "text": [
      "This car is from 1995 and is a bmw <__main__.Car object at 0x000001F7EF331DF0> and has 4 doors and 5 seats\n"
     ]
    }
   ],
   "source": [
    "# Create class with 2 paramters inside of the __init__ which are make and model, more if you'd like\n",
    "\n",
    "# Create two methods for your class\n",
    "\n",
    "# Create a method that alters an attribute for your class\n",
    "\n",
    "# Display method that prints information about the vehicle\n",
    "\n",
    "# Output: This car is from 2019 and is a Ford Expolorer and has 4 doors and 5 seats\n",
    "\n",
    "# reminder in order to call class methods object.method()\n",
    "\n",
    "\n",
    "class Car:\n",
    "    def __init__(self, make, model):\n",
    "        self.make = make\n",
    "        self.model = bmw\n",
    "        self.year = 1994\n",
    "        self.door = 2\n",
    "        self.seats = 2\n",
    "        \n",
    "    def change_info(self, year, door, seats):\n",
    "        self.year = year\n",
    "        self.door = door\n",
    "        self.seats = seats   \n",
    "    \n",
    "    def display_info(self):\n",
    "        print(f\"This car is from {self.year} and is a {self.make} {self.model} and has {self.door} doors and {self.seats} seats\")\n",
    "        \n",
    "        \n",
    "my_car = Car(\"bmw\", \"5 series\")\n",
    "my_car.change_info(1995, 4 ,5)\n",
    "my_car.display_info()\n",
    "\n",
    "    \n",
    "\n",
    "\n",
    "\n"
   ]
  },
  {
   "cell_type": "code",
   "execution_count": 43,
   "metadata": {},
   "outputs": [
    {
     "name": "stdout",
     "output_type": "stream",
     "text": [
      "The car is 2022-Honda CR-V and it has 4 door and 5 seats\n",
      "The car is 2020-Honda CR-V and it has 4 door and 8 seats\n"
     ]
    }
   ],
   "source": [
    "class Car():\n",
    "    def __init__(self, make, model):\n",
    "        self.make = make\n",
    "        self.model = model\n",
    "        self.year = 2022\n",
    "        self.seats = 5\n",
    "        self.doors = 4\n",
    "    def change_info(self, year, doors, seats):\n",
    "        self.year = year\n",
    "        self.seats = seats\n",
    "        self.doors = doors\n",
    "        \n",
    "    def display_info(self):\n",
    "        print(f\"The car is {self.year}-{self.make} {self.model} and it has {self.doors} door and {self.seats} seats\")\n",
    "\n",
    "dharti_car = Car(\"Honda\", \"CR-V\")\n",
    "dharti_car.display_info()\n",
    "dharti_car.change_info(2020, 4, 8)\n",
    "dharti_car.display_info()"
   ]
  },
  {
   "cell_type": "markdown",
   "metadata": {},
   "source": [
    "## Inheritance <br>\n",
    "<p>You can create a child-parent relationship between two classes by using inheritance. What this allows you to do is have overriding methods, but also inherit traits from the parent class. Think of it as an actual parent and child, the child will inherit the parent's genes, as will the classes in OOP</p>"
   ]
  },
  {
   "cell_type": "markdown",
   "metadata": {},
   "source": [
    "##### Syntax for Inheriting from a Parent Class"
   ]
  },
  {
   "cell_type": "code",
   "execution_count": 1,
   "metadata": {},
   "outputs": [],
   "source": [
    "class Animal: #<---parent class\n",
    "    ACCELERATION = 9.8\n",
    "    def __init__(self, name, species, legs = 4):\n",
    "        self.name = name\n",
    "        self.species = species\n",
    "        self.legs = legs\n",
    "        \n",
    "        \n",
    "    #generic parent method\n",
    "    def make_sounds(self):\n",
    "        print(\"REEEEEEEEEE\")\n",
    "        \n",
    "        \n",
    "class Dog(Animal):\n",
    "    SPEED = 15\n",
    "    def __init__(self, name, species, legs = 4):\n",
    "        super().__init__(name, species, legs)\n",
    "        self.color = color\n",
    "        \n",
    "    def print_info(self):\n",
    "        print(f\"{self.name} runs at {self.SPEED} mph and accelerates at {self.ACCERELERATION} mps^2\")\n",
    "        \n",
    "#grand child class        \n",
    "class Mutt(Dog):\n",
    "    COLOR = \"white\"\n",
    "    \n",
    "    #access the animal init class thorugh dog class\n",
    "    def __init__(self, name, species, eye_color, legs):\n",
    "        Dog.__init__(self, name, species, legs)\n",
    "        self.eye_color = eye_color\n",
    "        \n",
    "    #override the make_sound method\n",
    "    def make_sound(self):\n",
    "        print(\"roooooooo\")\n",
    "        "
   ]
  },
  {
   "cell_type": "code",
   "execution_count": 2,
   "metadata": {},
   "outputs": [
    {
     "name": "stdout",
     "output_type": "stream",
     "text": [
      "9.8\n",
      "kwicky\n"
     ]
    },
    {
     "ename": "AttributeError",
     "evalue": "'Animal' object has no attribute 'make_sound'",
     "output_type": "error",
     "traceback": [
      "\u001b[1;31m---------------------------------------------------------------------------\u001b[0m",
      "\u001b[1;31mAttributeError\u001b[0m                            Traceback (most recent call last)",
      "\u001b[1;32m~\\AppData\\Local\\Temp\\ipykernel_14988\\1001181221.py\u001b[0m in \u001b[0;36m<module>\u001b[1;34m\u001b[0m\n\u001b[0;32m      2\u001b[0m \u001b[0mprint\u001b[0m\u001b[1;33m(\u001b[0m\u001b[0mkoala\u001b[0m\u001b[1;33m.\u001b[0m\u001b[0mACCELERATION\u001b[0m\u001b[1;33m)\u001b[0m\u001b[1;33m\u001b[0m\u001b[1;33m\u001b[0m\u001b[0m\n\u001b[0;32m      3\u001b[0m \u001b[0mprint\u001b[0m\u001b[1;33m(\u001b[0m\u001b[0mkoala\u001b[0m\u001b[1;33m.\u001b[0m\u001b[0mname\u001b[0m\u001b[1;33m)\u001b[0m\u001b[1;33m\u001b[0m\u001b[1;33m\u001b[0m\u001b[0m\n\u001b[1;32m----> 4\u001b[1;33m \u001b[0mkoala\u001b[0m\u001b[1;33m.\u001b[0m\u001b[0mmake_sound\u001b[0m\u001b[1;33m(\u001b[0m\u001b[1;33m)\u001b[0m\u001b[1;33m\u001b[0m\u001b[1;33m\u001b[0m\u001b[0m\n\u001b[0m",
      "\u001b[1;31mAttributeError\u001b[0m: 'Animal' object has no attribute 'make_sound'"
     ]
    }
   ],
   "source": [
    "koala = Animal(\"kwicky\", \"koala\")\n",
    "print(koala.ACCELERATION)\n",
    "print(koala.name)\n",
    "koala.make_sound()"
   ]
  },
  {
   "cell_type": "markdown",
   "metadata": {},
   "source": [
    "##### The \\__init\\__() Method for a Child Class - super()"
   ]
  },
  {
   "cell_type": "code",
   "execution_count": 6,
   "metadata": {
    "scrolled": true
   },
   "outputs": [
    {
     "name": "stdout",
     "output_type": "stream",
     "text": [
      "2023 Tesla Plaid <__main__.battery object at 0x000001AEA3EE1D90>\n",
      "20\n"
     ]
    }
   ],
   "source": [
    "class battery():\n",
    "    VOLTZ = 7.8\n",
    "    \n",
    "    \n",
    "    def __init__(self, cells):\n",
    "        self.cells = cells\n",
    "        \n",
    "        \n",
    "class Car():\n",
    "    def __init__(self, year, make, model, battery):\n",
    "        self.year = year\n",
    "        self.make = make\n",
    "        self.model = model\n",
    "        self.battery = battery\n",
    "        \n",
    "    def print_info(self):\n",
    "        print(f\"{self.year} {self.make} {self.model} {self.battery}\")\n",
    "        \n",
    "        \n",
    "my_battery = battery(20)\n",
    "\n",
    "tesla = Car(2023, \"Tesla\", \"Plaid\", my_battery)\n",
    "tesla.print_info()\n",
    "\n",
    "print(my_battery.cells)"
   ]
  },
  {
   "cell_type": "markdown",
   "metadata": {},
   "source": [
    "##### Defining Attributes and Methods for the Child Class"
   ]
  },
  {
   "cell_type": "code",
   "execution_count": null,
   "metadata": {},
   "outputs": [],
   "source": [
    "# See Above"
   ]
  },
  {
   "cell_type": "markdown",
   "metadata": {},
   "source": [
    "##### Method Overriding"
   ]
  },
  {
   "cell_type": "code",
   "execution_count": null,
   "metadata": {},
   "outputs": [],
   "source": [
    "# See Above"
   ]
  },
  {
   "cell_type": "markdown",
   "metadata": {},
   "source": [
    "## Classes as Attributes <br>\n",
    "<p>Classes can also be used as attributes within another class. This is useful in situations where you need to keep variables locally stored, instead of globally stored.</p>"
   ]
  },
  {
   "cell_type": "code",
   "execution_count": 7,
   "metadata": {},
   "outputs": [
    {
     "name": "stdout",
     "output_type": "stream",
     "text": [
      "2023 Tesla Plaid <__main__.battery object at 0x000001AEA3F16C70>\n",
      "20\n"
     ]
    }
   ],
   "source": [
    "class battery():\n",
    "    VOLTZ = 7.8\n",
    "    \n",
    "    \n",
    "    def __init__(self, cells):\n",
    "        self.cells = cells\n",
    "        \n",
    "        \n",
    "class Car():\n",
    "    def __init__(self, year, make, model, battery):\n",
    "        self.year = year\n",
    "        self.make = make\n",
    "        self.model = model\n",
    "        self.battery = battery\n",
    "        \n",
    "    def print_info(self):\n",
    "        print(f\"{self.year} {self.make} {self.model} {self.battery}\")\n",
    "        \n",
    "        \n",
    "my_battery = battery(20)\n",
    "\n",
    "tesla = Car(2023, \"Tesla\", \"Plaid\", my_battery)\n",
    "tesla.print_info()\n",
    "\n",
    "print(my_battery.cells)"
   ]
  },
  {
   "cell_type": "markdown",
   "metadata": {},
   "source": [
    "## Classes as Attributes <br>"
   ]
  },
  {
   "cell_type": "markdown",
   "metadata": {},
   "source": [
    "<b>Generators in classes</b>"
   ]
  },
  {
   "cell_type": "code",
   "execution_count": 11,
   "metadata": {},
   "outputs": [
    {
     "data": {
      "text/plain": [
       "'thriller'"
      ]
     },
     "execution_count": 11,
     "metadata": {},
     "output_type": "execute_result"
    }
   ],
   "source": [
    "#iterator through a list of movie genres and yield each genre until we get to the end of the list\n",
    "#once the end of the list is hit you will get a StopIteration\n",
    "#try and except to print a message that says \"no more genres\"\n",
    "class Movie:\n",
    "    def __init__(self):\n",
    "        self.genres = [\"thriller\", \"horror\", \"drama\"]\n",
    "        self.generator_object = self.yield_genres()\n",
    "        \n",
    "        \n",
    "    def yield_genres(self):\n",
    "        for genre in self.genres:\n",
    "            yield genre\n",
    "            \n",
    "            \n",
    "    def show_genres(self):\n",
    "        try:\n",
    "            return next(self.generator_object)\n",
    "        except:\n",
    "            print(\"no more genres\")\n",
    "            \n",
    "my_movie = Movie()\n",
    "my_movie.show_genres()"
   ]
  },
  {
   "cell_type": "code",
   "execution_count": 12,
   "metadata": {},
   "outputs": [
    {
     "data": {
      "text/plain": [
       "'horror'"
      ]
     },
     "execution_count": 12,
     "metadata": {},
     "output_type": "execute_result"
    }
   ],
   "source": [
    "my_movie.show_genres()"
   ]
  },
  {
   "cell_type": "markdown",
   "metadata": {},
   "source": [
    "# Exercises"
   ]
  },
  {
   "cell_type": "markdown",
   "metadata": {},
   "source": [
    "### Exercise 1 - Turn the shopping cart program from last week into an object-oriented program\n",
    "\n",
    "The comments in the cell below are there as a guide for thinking about the problem. However, if you feel a different way is best for you and your own thought process, please do what feels best for you by all means."
   ]
  },
  {
   "cell_type": "code",
   "execution_count": 14,
   "metadata": {},
   "outputs": [
    {
     "name": "stdout",
     "output_type": "stream",
     "text": [
      "Make your shopping list. Please type (Show/Add/Remove/Clear/Quit). add\n",
      "What woudl you like to add to your cart? popcorn\n",
      "Quantity: 2\n",
      "Make your shopping list. Please type (Show/Add/Remove/Clear/Quit). show\n",
      "Oops! Something went wrong. Please type \"(Show/Add/Remove/Clear/Quit)\"\n",
      "Make your shopping list. Please type (Show/Add/Remove/Clear/Quit). clear\n",
      "Clear your list? [y/n] n\n",
      "Action abandoned.\n",
      "Make your shopping list. Please type (Show/Add/Remove/Clear/Quit). quit\n",
      "{'popcorn': '2'}\n"
     ]
    }
   ],
   "source": [
    "# Create a class called cart that retains items and has methods to add, remove, and show\n",
    "\n",
    "class ShoppingCart:\n",
    "\n",
    "    def __init__(self):\n",
    "        self.data = {}\n",
    "    \n",
    "    def add(self):\n",
    "        i = input(\"What woudl you like to add to your cart? \")\n",
    "        self.data[i] = input(\"Quantity: \")\n",
    "\n",
    "    def clear(self):\n",
    "        if input(\"Clear your list? [y/n] \").lower().startswith(\"y\"):\n",
    "            self.data = {}\n",
    "            print(\"Your list has been cleared.\")\n",
    "        else:\n",
    "            print(\"Action abandoned.\")\n",
    "\n",
    "    def remove(self):\n",
    "        print(\"Still working on that, use 'clear' for now please.\")\n",
    "\n",
    "    def menu_loop(self):\n",
    "        while True:\n",
    "            i = input(\n",
    "                \"Make your shopping list. \"\n",
    "                \"Please type (Show/Add/Remove/Clear/Quit). \"\n",
    "            ).lower()\n",
    "            if i == \"quit\":\n",
    "                break\n",
    "            try:\n",
    "                getattr(self, i)()\n",
    "            except AttributeError:\n",
    "                print(\n",
    "                    'Oops! Something went wrong. '\n",
    "                    'Please type \"(Show/Add/Remove/Clear/Quit)\"'\n",
    "                )\n",
    "\n",
    "\n",
    "cart = ShoppingCart()\n",
    "cart.menu_loop()\n",
    "print(cart.data)\n",
    "       "
   ]
  },
  {
   "cell_type": "markdown",
   "metadata": {},
   "source": [
    "### Exercise 2 - Write a Python class which has two methods get_String and print_String. get_String accept a string from the user and print_String print the string in upper case"
   ]
  },
  {
   "cell_type": "code",
   "execution_count": 3,
   "metadata": {},
   "outputs": [
    {
     "name": "stdout",
     "output_type": "stream",
     "text": [
      "white\n",
      "WHITE\n"
     ]
    }
   ],
   "source": [
    "class car():\n",
    "    def check_oil(self, oil, rims, white):\n",
    "        self.car = \"\"\n",
    "\n",
    "    def change_rims(self):\n",
    "        self.car = input()\n",
    "\n",
    "    def change_color(self):\n",
    "        print(self.car.upper())\n",
    "\n",
    "car = car()\n",
    "car.change_rims()\n",
    "car.change_color()"
   ]
  },
  {
   "cell_type": "code",
   "execution_count": null,
   "metadata": {},
   "outputs": [],
   "source": []
  }
 ],
 "metadata": {
  "kernelspec": {
   "display_name": "Python 3 (ipykernel)",
   "language": "python",
   "name": "python3"
  },
  "language_info": {
   "codemirror_mode": {
    "name": "ipython",
    "version": 3
   },
   "file_extension": ".py",
   "mimetype": "text/x-python",
   "name": "python",
   "nbconvert_exporter": "python",
   "pygments_lexer": "ipython3",
   "version": "3.9.13"
  }
 },
 "nbformat": 4,
 "nbformat_minor": 2
}
